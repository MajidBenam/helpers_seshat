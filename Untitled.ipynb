{
 "cells": [
  {
   "cell_type": "code",
   "execution_count": 16,
   "id": "north-commissioner",
   "metadata": {},
   "outputs": [
    {
     "name": "stdout",
     "output_type": "stream",
     "text": [
      "Here we go\n",
      "Here we go\n",
      "Here we go\n",
      "good to go...\n",
      "Here we go\n",
      "Hallo\n",
      "{'ABC': {'XYZ': []}, 'AB5555C': {'X5Y55Z': []}, 'A5BC': {'XY5Z': []}, 'A54444BC': {'XY000005Z': [], 'X444444Y5Z': []}}\n"
     ]
    }
   ],
   "source": [
    "vars_dic = {\n",
    "    'Land_taxes_collected': {\n",
    "        'model': 'Land_taxes_collected',\n",
    "        'list': 'Land_taxes_collectedListView',\n",
    "        'create': 'Land_taxes_collectedCreate',\n",
    "        'section': 'ABC',\n",
    "        'subsection': 'XYZ',\n",
    "    },\n",
    "        'Land555_taxes_5collected': {\n",
    "        'model': 'Land_taxes_c555ollected',\n",
    "        'list': 'Land_taxes_co555llectedListView',\n",
    "        'create': 'Land_taxes_collectedCreate',\n",
    "        'section': 'AB5555C',\n",
    "        'subsection': 'X5Y55Z',\n",
    "    },\n",
    "        'Land_taxes_coll5ected': {\n",
    "        'model': 'Land_taxes_collected',\n",
    "        'list': 'Land_taxes_collectedListView',\n",
    "        'create': 'Land_taxes_collectedCreate',\n",
    "        'section': 'A5BC',\n",
    "        'subsection': 'XY5Z',\n",
    "    },\n",
    "            'Land_twqwqareerxes_coll5ected': {\n",
    "        'model': 'Land_taxes_collected',\n",
    "        'list': 'Land_taxes_collectedListView',\n",
    "        'create': 'Land_taxes_collectedCreate',\n",
    "        'section': 'A5BC',\n",
    "        'subsection': 'XY5Z',\n",
    "    },\n",
    "            'Landwqwqw_tareerxes_coll5ected': {\n",
    "        'model': 'Land_taxes_collected',\n",
    "        'list': 'Land_taxes_collectedListView',\n",
    "        'create': 'Land_taxes_collectedCreate',\n",
    "        'section': 'A54444BC',\n",
    "        'subsection': 'XY000005Z',\n",
    "    },\n",
    "                'Land_tareeewewrxes_coll5ected': {\n",
    "        'model': 'Land_taxes_collected',\n",
    "        'list': 'Land_taxes_collectedListView',\n",
    "        'create': 'Land_taxes_collectedCreate',\n",
    "        'section': 'A54444BC',\n",
    "        'subsection': 'X444444Y5Z',\n",
    "    },\n",
    "}\n",
    "\n",
    "def QingVars():\n",
    "    context = {}\n",
    "    mylist = []\n",
    "    # create an amty dic for sections and subsections:\n",
    "    ultimate_dic = {}\n",
    "    for k, v in vars_dic.items():\n",
    "        if v['section'] not in ultimate_dic.keys():\n",
    "            ultimate_dic[v['section']] = {}\n",
    "            ultimate_dic[v['section']][v['subsection']] = []\n",
    "            print(\"Here we go\")\n",
    "        else:\n",
    "            if v['subsection'] not in ultimate_dic[v['section']].keys():\n",
    "                ultimate_dic[v['section']][v['subsection']] = []\n",
    "                print(\"Hallo\")\n",
    "            else:\n",
    "                print(\"good to go...\")\n",
    "\n",
    "    #context[\"mylist\"] = mylist\n",
    "    context[\"mylist\"] = ultimate_dic\n",
    "\n",
    "    #context[\"agrpod\"] = Agr_Prod_Pop.objects.all()\n",
    "    print(context['mylist'])\n",
    "\n",
    "QingVars()"
   ]
  },
  {
   "cell_type": "code",
   "execution_count": null,
   "id": "global-insert",
   "metadata": {},
   "outputs": [],
   "source": []
  }
 ],
 "metadata": {
  "kernelspec": {
   "display_name": "Python 3",
   "language": "python",
   "name": "python3"
  },
  "language_info": {
   "codemirror_mode": {
    "name": "ipython",
    "version": 3
   },
   "file_extension": ".py",
   "mimetype": "text/x-python",
   "name": "python",
   "nbconvert_exporter": "python",
   "pygments_lexer": "ipython3",
   "version": "3.8.10"
  }
 },
 "nbformat": 4,
 "nbformat_minor": 5
}
