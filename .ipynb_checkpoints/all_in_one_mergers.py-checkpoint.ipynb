{
 "cells": [
  {
   "cell_type": "code",
   "execution_count": 2,
   "id": "found-lemon",
   "metadata": {},
   "outputs": [],
   "source": [
    "from generating_utils import *\n",
    "import datetime\n",
    "now = datetime.datetime.now()\n",
    "nowstr = now.strftime(\"%Y_%m_%H%M\")\n",
    "\n",
    "helpers_root = \"/home/majid/dev/seshat/helpers/\"\n",
    "\n",
    "seshat_crisisdb = \"/home/majid/dev/seshat/seshat/seshat/apps/crisisdb/\"\n",
    "seshat_seshat_api = \"/home/majid/dev/seshat/seshat/seshat/apps/seshat_api/\""
   ]
  },
  {
   "cell_type": "markdown",
   "id": "favorite-surface",
   "metadata": {},
   "source": [
    "## Models, Serializers, Forms, URLs, Admin"
   ]
  },
  {
   "cell_type": "code",
   "execution_count": 3,
   "id": "appointed-portrait",
   "metadata": {},
   "outputs": [
    {
     "name": "stdout",
     "output_type": "stream",
     "text": [
      "Voila...\n"
     ]
    }
   ],
   "source": [
    "# models\n",
    "str_models = model_generator(vars_dic)\n",
    "\n",
    "model_file_name = \"output_models/4_output_for_models.py\" \n",
    "\n",
    "# let's write them to a file\n",
    "with open(model_file_name, \"w\") as text_file:\n",
    "    # first line: a comment indicating the start of generations\n",
    "    text_file.write(\"\\n########## Beginning of class Definitions for CrisisDB Models\\n\")\n",
    "    for model in str_models:\n",
    "        text_file.write(model)\n",
    "    text_file.write(\"\\n########## END of class Definitions for CrisisDB Models\\n\")\n",
    "    print(\"Voila...\")\n",
    "\n",
    "# serializers    \n",
    "str_polity_serializer = polity_serializer_generator(vars_dic)\n",
    "str_other_serializers = serial_generator(vars_dic)\n",
    "\n",
    "with open(\"output_serializers/3_output_for_all_crisisdb_serializers.py\", \"w\") as text_file:\n",
    "    for serial in str_other_serializers:\n",
    "        text_file.write(serial)\n",
    "    text_file.write(\"\\n\")\n",
    "    text_file.write(str_polity_serializer)\n",
    "    \n",
    "# Forms\n",
    "str_form_all_models_for_headers = all_models_imports_generator(vars_dic)\n",
    "str_forms = form_generator(vars_dic)\n",
    "\n",
    "with open(\"output_forms/1_imported_models.py\", \"w\") as text_file:\n",
    "    text_file.write(str_form_all_models_for_headers)\n",
    "    text_file.write(\"\\n\")\n",
    "        \n",
    "with open(\"output_forms/3_generated_forms.py\", \"w\") as text_file:\n",
    "    text_file.write(\"\\n\")\n",
    "    for form in str_forms:\n",
    "        text_file.write(form)\n",
    "        \n",
    "# URLs\n",
    "str_url_all_models_for_headers = all_models_imports_generator(vars_dic)\n",
    "str_urls = url_generator(vars_dic)\n",
    "\n",
    "with open(\"output_urls/1_imported_models.py\", \"w\") as text_file:\n",
    "    text_file.write(str_url_all_models_for_headers)\n",
    "    text_file.write(\"\\n\")\n",
    "        \n",
    "with open(\"output_urls/3_generated_urls.py\", \"w\") as text_file:\n",
    "    text_file.write(\"\\n\")\n",
    "    for url in str_urls:\n",
    "        text_file.write(url)\n",
    "\n",
    "# Admins\n",
    "full_str_admins = admin_generator(vars_dic)\n",
    "\n",
    "with open(\"output_admins/1_full_admins.py\", \"w\") as text_file:\n",
    "    for line in full_str_admins:\n",
    "        text_file.write(line)\n",
    "        \n",
    "# Templates\n",
    "!mv {seshat_crisisdb}admin.py {seshat_crisisdb}admin_{nowstr}.py\n",
    "!chmod +x {helpers_root}output_templates/make_admins_for_crisis_db.sh\n",
    "!{helpers_root}output_models/make_admins_for_crisis_db.sh\n",
    "!echo \"Templates Done\"\n"
   ]
  },
  {
   "cell_type": "code",
   "execution_count": 4,
   "id": "disturbed-briefing",
   "metadata": {},
   "outputs": [
    {
     "name": "stdout",
     "output_type": "stream",
     "text": [
      "Before appending the files...\r\n",
      "Files appended successfully!\r\n",
      "Contents of the merged file (all_files_merged.py) successfully transferred to: /home/majid/dev/seshat/seshat/seshat/apps/crisisdb/models.py!\r\n",
      "SUCCESS!\r\n"
     ]
    }
   ],
   "source": [
    "!mv {seshat_crisisdb}models.py {seshat_crisisdb}models_{nowstr}.py\n",
    "!chmod +x {helpers_root}output_models/make_models_for_crisis_db.sh\n",
    "!{helpers_root}output_models/make_models_for_crisis_db.sh\n",
    "!echo \"Models Done\"\n",
    "!mv {seshat_seshat_api}serializers.py {seshat_seshat_api}serializers_{nowstr}.py \n",
    "!chmod +x {helpers_root}output_serializers/make_serializers_for_crisis_db.sh\n",
    "!{helpers_root}output_serializers/make_serializers_for_crisis_db.sh\n",
    "!echo \"Serializers Done\"\n",
    "!mv {seshat_crisisdb}forms.py {seshat_crisisdb}forms_{nowstr}.py\n",
    "!chmod +x {helpers_root}output_forms/make_forms_for_crisis_db.sh\n",
    "!{helpers_root}output_forms/make_forms_for_crisis_db.sh\n",
    "!echo \"Forms Done\"\n",
    "!mv {seshat_crisisdb}urls.py {seshat_crisisdb}urls_{nowstr}.py\n",
    "!chmod +x {helpers_root}output_urls/make_urls_for_crisis_db.sh\n",
    "!{helpers_root}output_urls/make_urls_for_crisis_db.sh\n",
    "!echo \"URLs Done\"\n",
    "!mv {seshat_crisisdb}admin.py {seshat_crisisdb}admin_{nowstr}.py\n",
    "!chmod +x {helpers_root}output_admins/make_admins_for_crisis_db.sh\n",
    "!{helpers_root}output_admins/make_admins_for_crisis_db.sh\n",
    "!echo \"Admin Done\""
   ]
  },
  {
   "cell_type": "code",
   "execution_count": null,
   "id": "later-label",
   "metadata": {},
   "outputs": [],
   "source": []
  }
 ],
 "metadata": {
  "kernelspec": {
   "display_name": "Python 3",
   "language": "python",
   "name": "python3"
  },
  "language_info": {
   "codemirror_mode": {
    "name": "ipython",
    "version": 3
   },
   "file_extension": ".py",
   "mimetype": "text/x-python",
   "name": "python",
   "nbconvert_exporter": "python",
   "pygments_lexer": "ipython3",
   "version": "3.8.10"
  }
 },
 "nbformat": 4,
 "nbformat_minor": 5
}
