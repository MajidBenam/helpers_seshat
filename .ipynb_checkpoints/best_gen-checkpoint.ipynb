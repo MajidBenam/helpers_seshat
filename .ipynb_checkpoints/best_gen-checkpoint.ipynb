{
 "cells": [
  {
   "cell_type": "markdown",
   "id": "approximate-temple",
   "metadata": {},
   "source": [
    "<hr style=\"margin-top:0px;height:18px;background-image: linear-gradient(to right, red,orange,green,blue,indigo,violet);\">"
   ]
  },
  {
   "cell_type": "markdown",
   "id": "frequent-ceramic",
   "metadata": {},
   "source": [
    "# Models\n",
    "####  Things to be done:\n",
    "- `choices_tuples.py` must be created dynamically. Otherwise it is of no use.\n",
    "- Make sure `importrtance` is taken care of.\n",
    "- Make sure `vardesc` and `maindesc` and `Section` and `Subsection` are all compaticle with the other files. That might include removing section nad subsection from seshatcommon all together. \n",
    "- Make sure **`decimal_points`** and other variable-dependent are taken care of decently.\n"
   ]
  },
  {
   "cell_type": "code",
   "execution_count": null,
   "id": "difficult-indicator",
   "metadata": {},
   "outputs": [],
   "source": [
    "from generating_utils import *\n",
    "import datetime\n",
    "now = datetime.datetime.now()\n",
    "nowstr = now.strftime(\"%Y_%m_%H%M\")"
   ]
  },
  {
   "cell_type": "code",
   "execution_count": null,
   "id": "gentle-fraud",
   "metadata": {},
   "outputs": [],
   "source": [
    "# lets get the models in string format\n",
    "str_models = model_generator(vars_dic)\n",
    "\n",
    "model_file_name = \"output_models/4_output_for_models.py\" \n",
    "\n",
    "# let's write them to a file\n",
    "with open(model_file_name, \"w\") as text_file:\n",
    "    # first line: a comment indicating the start of generations\n",
    "    text_file.write(\"\\n########## Beginning of class Definitions for CrisisDB Models\\n\")\n",
    "    for model in str_models:\n",
    "        text_file.write(model)\n",
    "    text_file.write(\"\\n########## END of class Definitions for CrisisDB Models\\n\")\n",
    "    print(\"Voila...\")"
   ]
  },
  {
   "cell_type": "markdown",
   "id": "removable-absorption",
   "metadata": {},
   "source": [
    "\n",
    "### Run the bash script that does the transferring of the info\n",
    "<hr style=\"margin-top:0px;height:4px;background-image: linear-gradient(to right, red,orange,green,blue,indigo,violet);\">"
   ]
  },
  {
   "cell_type": "code",
   "execution_count": null,
   "id": "fabulous-conditions",
   "metadata": {},
   "outputs": [],
   "source": [
    "!mv /home/majid/dev/seshat/seshat/seshat/apps/crisisdb/models.py /home/majid/dev/seshat/seshat/seshat/apps/crisisdb/models_{nowstr}.py "
   ]
  },
  {
   "cell_type": "code",
   "execution_count": null,
   "id": "fifteen-scratch",
   "metadata": {},
   "outputs": [],
   "source": [
    "!chmod +x /home/majid/dev/seshat/helpers/output_models/make_models_for_crisis_db.sh"
   ]
  },
  {
   "cell_type": "code",
   "execution_count": null,
   "id": "prompt-invalid",
   "metadata": {},
   "outputs": [],
   "source": [
    "!/home/majid/dev/seshat/helpers/output_models/make_models_for_crisis_db.sh"
   ]
  },
  {
   "cell_type": "markdown",
   "id": "affiliated-renaissance",
   "metadata": {},
   "source": [
    "<hr style=\"margin-top:0px;height:18px;background-image: linear-gradient(to right, red,orange,green,blue,indigo,violet);\">"
   ]
  },
  {
   "cell_type": "markdown",
   "id": "herbal-candidate",
   "metadata": {},
   "source": [
    "# Serializers"
   ]
  },
  {
   "cell_type": "code",
   "execution_count": null,
   "id": "changed-hazard",
   "metadata": {},
   "outputs": [],
   "source": [
    "from generating_utils import *\n",
    "import datetime\n",
    "now = datetime.datetime.now()\n",
    "nowstr = now.strftime(\"%Y_%m_%H%M\")"
   ]
  },
  {
   "cell_type": "markdown",
   "id": "veterinary-kruger",
   "metadata": {},
   "source": [
    "### create the last (much needed file)\n",
    "<hr style=\"margin-top:0px;height:4px;background-image: linear-gradient(to right, red,orange,green,blue,indigo,violet);\">"
   ]
  },
  {
   "cell_type": "code",
   "execution_count": null,
   "id": "renewable-spare",
   "metadata": {},
   "outputs": [],
   "source": [
    "str_polity_serializer = polity_serializer_generator(vars_dic)\n",
    "str_other_serializers = serial_generator(vars_dic)\n",
    "\n",
    "with open(\"output_serializers/3_output_for_all_crisisdb_serializers.py\", \"w\") as text_file:\n",
    "    for serial in str_other_serializers:\n",
    "        text_file.write(serial)\n",
    "    text_file.write(\"\\n\")\n",
    "    text_file.write(str_polity_serializer)\n"
   ]
  },
  {
   "cell_type": "markdown",
   "id": "increasing-stability",
   "metadata": {},
   "source": [
    "### Run the bash script that does the transferring of the info\n",
    "<hr style=\"margin-top:0px;height:4px;background-image: linear-gradient(to right, red,orange,green,blue,indigo,violet);\">"
   ]
  },
  {
   "cell_type": "code",
   "execution_count": null,
   "id": "harmful-donor",
   "metadata": {},
   "outputs": [],
   "source": [
    "!mv /home/majid/dev/seshat/seshat/seshat/apps/seshat_api/serializers.py /home/majid/dev/seshat/seshat/seshat/apps/seshat_api/serializers_{nowstr}.py \n",
    "!chmod +x /home/majid/dev/seshat/helpers/output_serializers/make_serializers_for_crisis_db.sh\n",
    "!/home/majid/dev/seshat/helpers/output_serializers/make_serializers_for_crisis_db.sh"
   ]
  },
  {
   "cell_type": "code",
   "execution_count": null,
   "id": "engaging-surprise",
   "metadata": {},
   "outputs": [],
   "source": []
  },
  {
   "cell_type": "markdown",
   "id": "healthy-powell",
   "metadata": {},
   "source": [
    "<hr style=\"margin-top:0px;height:18px;background-image: linear-gradient(to right, red,orange,green,blue,indigo,violet);\">"
   ]
  },
  {
   "cell_type": "markdown",
   "id": "greatest-apartment",
   "metadata": {},
   "source": [
    "# Forms"
   ]
  },
  {
   "cell_type": "code",
   "execution_count": null,
   "id": "fifty-price",
   "metadata": {},
   "outputs": [],
   "source": [
    "from generating_utils import *\n",
    "import datetime\n",
    "now = datetime.datetime.now()\n",
    "nowstr = now.strftime(\"%Y_%m_%H%M\")"
   ]
  },
  {
   "cell_type": "markdown",
   "id": "premium-douglas",
   "metadata": {},
   "source": [
    "### create the first and the last (much needed files)\n",
    "<hr style=\"margin-top:0px;height:4px;background-image: linear-gradient(to right, red,orange,green,blue,indigo,violet);\">"
   ]
  },
  {
   "cell_type": "code",
   "execution_count": null,
   "id": "statewide-festival",
   "metadata": {},
   "outputs": [],
   "source": [
    "str_form_all_models_for_headers = all_models_imports_generator(vars_dic)\n",
    "str_forms = form_generator(vars_dic)\n",
    "\n",
    "with open(\"output_forms/1_imported_models.py\", \"w\") as text_file:\n",
    "    text_file.write(str_form_all_models_for_headers)\n",
    "    text_file.write(\"\\n\")\n",
    "        \n",
    "with open(\"output_forms/3_generated_forms.py\", \"w\") as text_file:\n",
    "    text_file.write(\"\\n\")\n",
    "    for form in str_forms:\n",
    "        text_file.write(form)\n"
   ]
  },
  {
   "cell_type": "markdown",
   "id": "native-dancing",
   "metadata": {},
   "source": [
    "### Run the bash script that does the transferring of the info\n",
    "<hr style=\"margin-top:0px;height:4px;background-image: linear-gradient(to right, red,orange,green,blue,indigo,violet);\">"
   ]
  },
  {
   "cell_type": "code",
   "execution_count": null,
   "id": "correct-disabled",
   "metadata": {},
   "outputs": [],
   "source": [
    "!mv /home/majid/dev/seshat/seshat/seshat/apps/crisisdb/forms.py /home/majid/dev/seshat/seshat/seshat/apps/crisisdb/forms_{nowstr}.py \n",
    "!chmod +x /home/majid/dev/seshat/helpers/output_forms/make_forms_for_crisis_db.sh\n",
    "!/home/majid/dev/seshat/helpers/output_forms/make_forms_for_crisis_db.sh"
   ]
  },
  {
   "cell_type": "markdown",
   "id": "automated-twist",
   "metadata": {},
   "source": [
    "<hr style=\"margin-top:0px;height:18px;background-image: linear-gradient(to right, red,orange,green,blue,indigo,violet);\">"
   ]
  },
  {
   "cell_type": "markdown",
   "id": "approved-religious",
   "metadata": {},
   "source": [
    "# URLs"
   ]
  },
  {
   "cell_type": "code",
   "execution_count": null,
   "id": "essential-austria",
   "metadata": {},
   "outputs": [],
   "source": [
    "from generating_utils import *\n",
    "import datetime\n",
    "now = datetime.datetime.now()\n",
    "nowstr = now.strftime(\"%Y_%m_%H%M\")"
   ]
  },
  {
   "cell_type": "markdown",
   "id": "varied-tender",
   "metadata": {},
   "source": [
    "### create the first and the last (much needed files)\n",
    "<hr style=\"margin-top:0px;height:4px;background-image: linear-gradient(to right, red,orange,green,blue,indigo,violet);\">"
   ]
  },
  {
   "cell_type": "code",
   "execution_count": null,
   "id": "joined-township",
   "metadata": {},
   "outputs": [],
   "source": [
    "str_url_all_models_for_headers = all_models_imports_generator(vars_dic)\n",
    "str_urls = url_generator(vars_dic)\n",
    "\n",
    "with open(\"output_urls/1_imported_models.py\", \"w\") as text_file:\n",
    "    text_file.write(str_url_all_models_for_headers)\n",
    "    text_file.write(\"\\n\")\n",
    "        \n",
    "with open(\"output_urls/3_generated_urls.py\", \"w\") as text_file:\n",
    "    text_file.write(\"\\n\")\n",
    "    for url in str_urls:\n",
    "        text_file.write(url)\n"
   ]
  },
  {
   "cell_type": "markdown",
   "id": "lesser-warrior",
   "metadata": {},
   "source": [
    "### Run the bash script that does the transferring of the info\n",
    "<hr style=\"margin-top:0px;height:4px;background-image: linear-gradient(to right, red,orange,green,blue,indigo,violet);\">"
   ]
  },
  {
   "cell_type": "code",
   "execution_count": null,
   "id": "systematic-nightmare",
   "metadata": {},
   "outputs": [],
   "source": [
    "!mv /home/majid/dev/seshat/seshat/seshat/apps/crisisdb/urls.py /home/majid/dev/seshat/seshat/seshat/apps/crisisdb/urls_{nowstr}.py \n",
    "!chmod +x /home/majid/dev/seshat/helpers/output_urls/make_urls_for_crisis_db.sh\n",
    "!/home/majid/dev/seshat/helpers/output_urls/make_urls_for_crisis_db.sh"
   ]
  },
  {
   "cell_type": "code",
   "execution_count": null,
   "id": "flush-plastic",
   "metadata": {},
   "outputs": [],
   "source": []
  },
  {
   "cell_type": "markdown",
   "id": "commercial-dealing",
   "metadata": {},
   "source": [
    "<hr style=\"margin-top:0px;height:18px;background-image: linear-gradient(to right, red,orange,green,blue,indigo,violet);\">"
   ]
  },
  {
   "cell_type": "markdown",
   "id": "breeding-opposition",
   "metadata": {},
   "source": [
    "# Admins"
   ]
  },
  {
   "cell_type": "code",
   "execution_count": null,
   "id": "beginning-arizona",
   "metadata": {},
   "outputs": [],
   "source": [
    "from generating_utils import *\n",
    "import datetime\n",
    "import os\n",
    "now = datetime.datetime.now()\n",
    "nowstr = now.strftime(\"%Y_%m_%H%M\")"
   ]
  },
  {
   "cell_type": "markdown",
   "id": "biblical-rainbow",
   "metadata": {},
   "source": [
    "### create the first and the last (much needed files)\n",
    "<hr style=\"margin-top:0px;height:4px;background-image: linear-gradient(to right, red,orange,green,blue,indigo,violet);\">"
   ]
  },
  {
   "cell_type": "code",
   "execution_count": null,
   "id": "convertible-province",
   "metadata": {},
   "outputs": [],
   "source": [
    "full_str_admins = admin_generator(vars_dic)\n",
    "\n",
    "with open(\"output_admins/1_full_admins.py\", \"w\") as text_file:\n",
    "    for line in full_str_admins:\n",
    "        text_file.write(line)\n"
   ]
  },
  {
   "cell_type": "markdown",
   "id": "suspended-twelve",
   "metadata": {},
   "source": [
    "### Run the bash script that does the transferring of the info\n",
    "<hr style=\"margin-top:0px;height:4px;background-image: linear-gradient(to right, red,orange,green,blue,indigo,violet);\">"
   ]
  },
  {
   "cell_type": "code",
   "execution_count": null,
   "id": "amino-increase",
   "metadata": {},
   "outputs": [],
   "source": [
    "!mv /home/majid/dev/seshat/seshat/seshat/apps/crisisdb/admin.py /home/majid/dev/seshat/seshat/seshat/apps/crisisdb/admins_{nowstr}.py \n",
    "!chmod +x /home/majid/dev/seshat/helpers/output_admins/make_admins_for_crisis_db.sh\n",
    "!/home/majid/dev/seshat/helpers/output_admins/make_admins_for_crisis_db.sh"
   ]
  },
  {
   "cell_type": "code",
   "execution_count": null,
   "id": "confidential-mercy",
   "metadata": {},
   "outputs": [],
   "source": []
  },
  {
   "cell_type": "markdown",
   "id": "moved-junction",
   "metadata": {},
   "source": [
    "<hr style=\"margin-top:0px;height:18px;background-image: linear-gradient(to right, red,orange,green,blue,indigo,violet);\">"
   ]
  },
  {
   "cell_type": "markdown",
   "id": "fossil-assembly",
   "metadata": {},
   "source": [
    "# VIEWs"
   ]
  },
  {
   "cell_type": "markdown",
   "id": "heard-colonial",
   "metadata": {},
   "source": [
    "### TODO:\n",
    "- make sure sections and subsections are also dynamically generated and put int vars_dic for use in views in qing_vars.html"
   ]
  },
  {
   "cell_type": "code",
   "execution_count": null,
   "id": "concrete-cricket",
   "metadata": {},
   "outputs": [],
   "source": [
    "from generating_utils import *\n",
    "import datetime\n",
    "import os\n",
    "now = datetime.datetime.now()\n",
    "nowstr = now.strftime(\"%Y_%m_%H%M\")"
   ]
  },
  {
   "cell_type": "code",
   "execution_count": null,
   "id": "senior-death",
   "metadata": {},
   "outputs": [],
   "source": [
    "majid = generate_vars_dic(vars_dic)"
   ]
  },
  {
   "cell_type": "markdown",
   "id": "informed-telling",
   "metadata": {},
   "source": [
    "### create the first and the last (much needed files)\n",
    "<hr style=\"margin-top:0px;height:4px;background-image: linear-gradient(to right, red,orange,green,blue,indigo,violet);\">"
   ]
  },
  {
   "cell_type": "code",
   "execution_count": null,
   "id": "contrary-virginia",
   "metadata": {},
   "outputs": [],
   "source": [
    "full_str_views = view_generator(vars_dic)\n",
    "\n",
    "with open(\"output_views/2_all_views.py\", \"w\") as text_file:\n",
    "    for view in full_str_views:\n",
    "        text_file.write(view)"
   ]
  },
  {
   "cell_type": "markdown",
   "id": "accessory-submission",
   "metadata": {},
   "source": [
    "### Run the bash script that does the transferring of the info\n",
    "<hr style=\"margin-top:0px;height:4px;background-image: linear-gradient(to right, red,orange,green,blue,indigo,violet);\">"
   ]
  },
  {
   "cell_type": "code",
   "execution_count": null,
   "id": "compact-reaction",
   "metadata": {},
   "outputs": [],
   "source": [
    "!mv /home/majid/dev/seshat/seshat/seshat/apps/crisisdb/views.py /home/majid/dev/seshat/seshat/seshat/apps/crisisdb/views_{nowstr}.py "
   ]
  },
  {
   "cell_type": "code",
   "execution_count": null,
   "id": "discrete-sentence",
   "metadata": {},
   "outputs": [],
   "source": [
    "!chmod +x /home/majid/dev/seshat/helpers/output_views/make_views_for_crisis_db.sh"
   ]
  },
  {
   "cell_type": "code",
   "execution_count": null,
   "id": "northern-freeze",
   "metadata": {
    "scrolled": true
   },
   "outputs": [],
   "source": [
    "!/home/majid/dev/seshat/helpers/output_views/make_views_for_crisis_db.sh"
   ]
  },
  {
   "cell_type": "code",
   "execution_count": null,
   "id": "complimentary-priest",
   "metadata": {},
   "outputs": [],
   "source": []
  },
  {
   "cell_type": "markdown",
   "id": "piano-links",
   "metadata": {},
   "source": [
    "<hr style=\"margin-top:0px;height:18px;background-image: linear-gradient(to right, red,orange,green,blue,indigo,violet);\">"
   ]
  },
  {
   "cell_type": "markdown",
   "id": "adequate-wholesale",
   "metadata": {},
   "source": [
    "# Templates"
   ]
  },
  {
   "cell_type": "code",
   "execution_count": null,
   "id": "substantial-allen",
   "metadata": {},
   "outputs": [],
   "source": [
    "from generating_utils import *\n",
    "import datetime"
   ]
  },
  {
   "cell_type": "markdown",
   "id": "ordinary-california",
   "metadata": {},
   "source": [
    "### create the first and the last (much needed files)\n",
    "<hr style=\"margin-top:0px;height:4px;background-image: linear-gradient(to right, red,orange,green,blue,indigo,violet);\">"
   ]
  },
  {
   "cell_type": "code",
   "execution_count": null,
   "id": "coordinate-perspective",
   "metadata": {},
   "outputs": [],
   "source": [
    "create_all_templates(vars_dic)"
   ]
  },
  {
   "cell_type": "markdown",
   "id": "faced-masters",
   "metadata": {},
   "source": [
    "### Run the bash script that does the transferring of the info\n",
    "<hr style=\"margin-top:0px;height:4px;background-image: linear-gradient(to right, red,orange,green,blue,indigo,violet);\">"
   ]
  },
  {
   "cell_type": "code",
   "execution_count": null,
   "id": "demonstrated-brown",
   "metadata": {},
   "outputs": [],
   "source": [
    "seshat_crisisdb = \"/home/majid/dev/seshat/seshat/seshat/apps/crisisdb/\""
   ]
  },
  {
   "cell_type": "code",
   "execution_count": null,
   "id": "industrial-commissioner",
   "metadata": {},
   "outputs": [],
   "source": [
    "!cp other_crisisdb_templates/*.html /home/majid/dev/seshat/helpers/all_new_seshat_html_templates"
   ]
  },
  {
   "cell_type": "code",
   "execution_count": null,
   "id": "satisfactory-error",
   "metadata": {},
   "outputs": [],
   "source": [
    "!mv {seshat_crisisdb}templates/crisisdb {seshat_crisisdb}templates/crisisdb_{nowstr}"
   ]
  },
  {
   "cell_type": "code",
   "execution_count": null,
   "id": "previous-somerset",
   "metadata": {},
   "outputs": [],
   "source": [
    "!cp -R /home/majid/dev/seshat/helpers/all_new_seshat_html_templates {seshat_crisisdb}templates/crisisdb"
   ]
  },
  {
   "cell_type": "code",
   "execution_count": null,
   "id": "incorporated-encounter",
   "metadata": {},
   "outputs": [],
   "source": []
  },
  {
   "cell_type": "code",
   "execution_count": null,
   "id": "choice-repair",
   "metadata": {},
   "outputs": [],
   "source": []
  },
  {
   "cell_type": "code",
   "execution_count": null,
   "id": "sunset-russia",
   "metadata": {},
   "outputs": [],
   "source": []
  },
  {
   "cell_type": "code",
   "execution_count": null,
   "id": "flying-president",
   "metadata": {},
   "outputs": [],
   "source": []
  },
  {
   "cell_type": "code",
   "execution_count": null,
   "id": "loved-concentrate",
   "metadata": {},
   "outputs": [],
   "source": [
    "my_tuple = serial_generator(vars_dic)"
   ]
  },
  {
   "cell_type": "code",
   "execution_count": null,
   "id": "pressed-constitutional",
   "metadata": {},
   "outputs": [],
   "source": [
    "len(my_tuple)"
   ]
  },
  {
   "cell_type": "code",
   "execution_count": null,
   "id": "yellow-seventh",
   "metadata": {},
   "outputs": [],
   "source": [
    "my_tuple[1]"
   ]
  },
  {
   "cell_type": "code",
   "execution_count": null,
   "id": "welsh-assist",
   "metadata": {},
   "outputs": [],
   "source": []
  },
  {
   "cell_type": "code",
   "execution_count": null,
   "id": "bronze-arthritis",
   "metadata": {},
   "outputs": [],
   "source": []
  },
  {
   "cell_type": "markdown",
   "id": "annual-timothy",
   "metadata": {},
   "source": [
    "<hr style=\"margin-top:0px;height:18px;background-image: linear-gradient(to right, red,orange,green,blue,indigo,violet);\">"
   ]
  },
  {
   "cell_type": "markdown",
   "id": "lonely-catholic",
   "metadata": {},
   "source": [
    "<h1> SQL </h1>"
   ]
  },
  {
   "cell_type": "markdown",
   "id": "indirect-mauritius",
   "metadata": {},
   "source": [
    "#### Remember taht before we can create any SQL file, we have to clean the data separtaely, and we have to make sure that the data is compatible with the data mpodels that we have in our apps. Col_names and all the other details must be taken care of. \n",
    "\n",
    "## `Good Food` for our SQL generator is the most important. "
   ]
  },
  {
   "cell_type": "code",
   "execution_count": 1,
   "id": "smooth-scratch",
   "metadata": {},
   "outputs": [],
   "source": [
    "import pandas as pd\n",
    "from generating_utils import *\n",
    "import datetime"
   ]
  },
  {
   "cell_type": "code",
   "execution_count": 2,
   "id": "amateur-nature",
   "metadata": {},
   "outputs": [],
   "source": [
    "# We can have the list of all files and sheets\n",
    "# and give them as input to the following function\n",
    "\n",
    "#folder is decided inside the inner functions and is hardcoded\n",
    "my_files_details = {\n",
    "    \"tax_burden.xlsx\":                   ['Sheet1', 'Sheet2', 'Sheet3', 'Sheet4'],\n",
    "    \"annual_wages_in_silver_liang.xlsx\": ['Sheet1_MCMA', 'Sheet2_MCMA'],\n",
    "    \"Chinas_GDP.xlsx\":                   ['Sheet1', 'Sheet2', 'Sheet3', 'Sheet4', 'Sheet5'],\n",
    "    \"Famine_Disease_from_Qing_datasets_2_sheets.xlsx\": [\"Qing_Wages\", \"Qing_Famine_MCMA\",\n",
    "                                                       \"PROBLEMATIC_Qing_Conflicts_COW\",\n",
    "                                                       \"Qing_Disease_MCMA\"],\n",
    "    \"Jinshi_examination.xlsx\":           ['Sheet1_MCMA', 'Sheet2_MCMA', 'Sheet3_MCMA'],\n",
    "    \"Taiping_rebellion_leaders.xlsx\":    ['Sheet1_MCMA',],\n",
    "    \"wages_of_workers.xlsx\":             ['Sheet1_MCMA',],\n",
    "}"
   ]
  },
  {
   "cell_type": "code",
   "execution_count": 3,
   "id": "pretty-monitor",
   "metadata": {},
   "outputs": [],
   "source": [
    "# this will containn all the data in clean format in key value pairs\n",
    "#    key: sheet_name\n",
    "#    value: a df containing all the data in the file (accesseíble via an extra key for sheet)\n",
    "my_good_dfs = read_and_save_all_excel_sheets_at_once(my_files_details)"
   ]
  },
  {
   "cell_type": "code",
   "execution_count": 4,
   "id": "skilled-synthetic",
   "metadata": {},
   "outputs": [
    {
     "data": {
      "text/html": [
       "<div>\n",
       "<style scoped>\n",
       "    .dataframe tbody tr th:only-of-type {\n",
       "        vertical-align: middle;\n",
       "    }\n",
       "\n",
       "    .dataframe tbody tr th {\n",
       "        vertical-align: top;\n",
       "    }\n",
       "\n",
       "    .dataframe thead th {\n",
       "        text-align: right;\n",
       "    }\n",
       "</style>\n",
       "<table border=\"1\" class=\"dataframe\">\n",
       "  <thead>\n",
       "    <tr style=\"text-align: right;\">\n",
       "      <th></th>\n",
       "      <th>year_from</th>\n",
       "      <th>land_taxes_collected</th>\n",
       "      <th>land_yield</th>\n",
       "    </tr>\n",
       "  </thead>\n",
       "  <tbody>\n",
       "    <tr>\n",
       "      <th>0</th>\n",
       "      <td>1652</td>\n",
       "      <td>49795</td>\n",
       "      <td>315991</td>\n",
       "    </tr>\n",
       "    <tr>\n",
       "      <th>1</th>\n",
       "      <td>1685</td>\n",
       "      <td>38809</td>\n",
       "      <td>415359</td>\n",
       "    </tr>\n",
       "    <tr>\n",
       "      <th>2</th>\n",
       "      <td>1724</td>\n",
       "      <td>33550</td>\n",
       "      <td>890648</td>\n",
       "    </tr>\n",
       "    <tr>\n",
       "      <th>3</th>\n",
       "      <td>1766</td>\n",
       "      <td>57360</td>\n",
       "      <td>1783965</td>\n",
       "    </tr>\n",
       "    <tr>\n",
       "      <th>4</th>\n",
       "      <td>1784</td>\n",
       "      <td>54348</td>\n",
       "      <td>1646449</td>\n",
       "    </tr>\n",
       "    <tr>\n",
       "      <th>5</th>\n",
       "      <td>1820</td>\n",
       "      <td>63478</td>\n",
       "      <td>2313710</td>\n",
       "    </tr>\n",
       "  </tbody>\n",
       "</table>\n",
       "</div>"
      ],
      "text/plain": [
       "   year_from  land_taxes_collected  land_yield\n",
       "0       1652                 49795      315991\n",
       "1       1685                 38809      415359\n",
       "2       1724                 33550      890648\n",
       "3       1766                 57360     1783965\n",
       "4       1784                 54348     1646449\n",
       "5       1820                 63478     2313710"
      ]
     },
     "execution_count": 4,
     "metadata": {},
     "output_type": "execute_result"
    }
   ],
   "source": [
    "# Example: (Note that the folder name is bypassed as we don't need it)\n",
    "my_good_dfs['tax_burden.xlsx']['Sheet1']"
   ]
  },
  {
   "cell_type": "markdown",
   "id": "indian-tomato",
   "metadata": {},
   "source": [
    "#### Now we have all the data based on the sheet and file names and we can do all soirts of things with them as they are now panda data frames. We can also do the cleanings and replacements in the previous steps as we are saving the files."
   ]
  },
  {
   "cell_type": "code",
   "execution_count": 5,
   "id": "prostate-august",
   "metadata": {},
   "outputs": [],
   "source": [
    "sql_generator_for_all(my_files_details, my_good_dfs)"
   ]
  },
  {
   "cell_type": "code",
   "execution_count": null,
   "id": "amber-shoulder",
   "metadata": {},
   "outputs": [],
   "source": []
  },
  {
   "cell_type": "code",
   "execution_count": 6,
   "id": "incorporated-adelaide",
   "metadata": {},
   "outputs": [
    {
     "data": {
      "text/plain": [
       "10"
      ]
     },
     "execution_count": 6,
     "metadata": {},
     "output_type": "execute_result"
    }
   ],
   "source": [
    "8+2"
   ]
  },
  {
   "cell_type": "code",
   "execution_count": 31,
   "id": "norman-angola",
   "metadata": {},
   "outputs": [
    {
     "name": "stdout",
     "output_type": "stream",
     "text": [
      "None,None::::(Majid_1988)\n",
      "None,123::::(Majid_1988, p. 123)\n",
      "None,136::::(Majid_1988, p. 136)\n",
      "123,123::::(Majid_1988, p. 123)\n",
      "123,123::::(Majid_1988, p. 123)\n",
      "123,136::::(Majid_1988, pp. 123-136)\n",
      "135,135::::(Majid_1988, p. 135)\n",
      "135,123::::(Majid_1988, pp. 135-123)\n",
      "135,136::::(Majid_1988, pp. 135-136)\n"
     ]
    }
   ],
   "source": [
    "creator = \"Majid\"\n",
    "year = \"1988\"\n",
    "From = [None, 123, 135]\n",
    "To = [None, 123, 136]\n",
    "def test(x,y):\n",
    "    if x == None and y==None:\n",
    "        return '{2},{3}::::({0}_{1})'.format(creator, year, x, y)\n",
    "    elif x == y or ((not y) and x):\n",
    "        return '{2},{3}::::({0}_{1}, p. {2})'.format(creator, year, x, x)\n",
    "    elif x == y or ((not x) and y):\n",
    "        return '{2},{3}::::({0}_{1}, p. {3})'.format(creator, year, x, y)\n",
    "    elif x and y:\n",
    "        return '{2},{3}::::({0}_{1}, pp. {2}-{3})'.format(creator, year, x, y)\n",
    "    else:\n",
    "        return '{2},{3}::::({0}_{1})'.format(creator, year, x, y)\n",
    "for i in From:\n",
    "    for j in To:\n",
    "        print(test(i,j))"
   ]
  },
  {
   "cell_type": "code",
   "execution_count": 25,
   "id": "three-toronto",
   "metadata": {},
   "outputs": [
    {
     "data": {
      "text/plain": [
       "True"
      ]
     },
     "execution_count": 25,
     "metadata": {},
     "output_type": "execute_result"
    }
   ],
   "source": [
    "None == None"
   ]
  },
  {
   "cell_type": "code",
   "execution_count": null,
   "id": "civic-wireless",
   "metadata": {},
   "outputs": [],
   "source": []
  }
 ],
 "metadata": {
  "kernelspec": {
   "display_name": "Python 3",
   "language": "python",
   "name": "python3"
  },
  "language_info": {
   "codemirror_mode": {
    "name": "ipython",
    "version": 3
   },
   "file_extension": ".py",
   "mimetype": "text/x-python",
   "name": "python",
   "nbconvert_exporter": "python",
   "pygments_lexer": "ipython3",
   "version": "3.8.10"
  }
 },
 "nbformat": 4,
 "nbformat_minor": 5
}
